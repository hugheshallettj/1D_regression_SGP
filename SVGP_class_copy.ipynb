{
  "cells": [
    {
      "cell_type": "markdown",
      "metadata": {
        "id": "view-in-github",
        "colab_type": "text"
      },
      "source": [
        "<a href=\"https://colab.research.google.com/github/hugheshallettj/1D_regression_SGP/blob/main/SVGP_class_copy.ipynb\" target=\"_parent\"><img src=\"https://colab.research.google.com/assets/colab-badge.svg\" alt=\"Open In Colab\"/></a>"
      ]
    },
    {
      "cell_type": "code",
      "source": [
        "!pip install 'aif360[LFR]' fairlearn gpflow"
      ],
      "metadata": {
        "id": "aYmSoh-qgOle"
      },
      "execution_count": null,
      "outputs": []
    },
    {
      "cell_type": "code",
      "source": [
        "cd /usr/local/lib/python3.7/dist-packages/aif360/data/raw/adult"
      ],
      "metadata": {
        "colab": {
          "base_uri": "https://localhost:8080/"
        },
        "id": "yvP84TZggXLt",
        "outputId": "c6a1d9a9-e35c-4a81-d078-3f21d7017c69"
      },
      "execution_count": 27,
      "outputs": [
        {
          "output_type": "stream",
          "name": "stdout",
          "text": [
            "/usr/local/lib/python3.7/dist-packages/aif360/data/raw/adult\n"
          ]
        }
      ]
    },
    {
      "cell_type": "code",
      "source": [
        "!wget https://archive.ics.uci.edu/ml/machine-learning-databases/adult/adult.data\n",
        "!wget https://archive.ics.uci.edu/ml/machine-learning-databases/adult/adult.names\n",
        "!wget https://archive.ics.uci.edu/ml/machine-learning-databases/adult/adult.test"
      ],
      "metadata": {
        "colab": {
          "base_uri": "https://localhost:8080/"
        },
        "id": "xL-jBgPlgc24",
        "outputId": "b97858af-2b89-4461-8955-b286aaaa95e9"
      },
      "execution_count": 28,
      "outputs": [
        {
          "output_type": "stream",
          "name": "stdout",
          "text": [
            "--2022-02-19 20:51:48--  https://archive.ics.uci.edu/ml/machine-learning-databases/adult/adult.data\n",
            "Resolving archive.ics.uci.edu (archive.ics.uci.edu)... 128.195.10.252\n",
            "Connecting to archive.ics.uci.edu (archive.ics.uci.edu)|128.195.10.252|:443... connected.\n",
            "HTTP request sent, awaiting response... 200 OK\n",
            "Length: 3974305 (3.8M) [application/x-httpd-php]\n",
            "Saving to: ‘adult.data.2’\n",
            "\n",
            "adult.data.2        100%[===================>]   3.79M  3.13MB/s    in 1.2s    \n",
            "\n",
            "2022-02-19 20:51:50 (3.13 MB/s) - ‘adult.data.2’ saved [3974305/3974305]\n",
            "\n",
            "--2022-02-19 20:51:50--  https://archive.ics.uci.edu/ml/machine-learning-databases/adult/adult.names\n",
            "Resolving archive.ics.uci.edu (archive.ics.uci.edu)... 128.195.10.252\n",
            "Connecting to archive.ics.uci.edu (archive.ics.uci.edu)|128.195.10.252|:443... connected.\n",
            "HTTP request sent, awaiting response... 200 OK\n",
            "Length: 5229 (5.1K) [application/x-httpd-php]\n",
            "Saving to: ‘adult.names.2’\n",
            "\n",
            "adult.names.2       100%[===================>]   5.11K  --.-KB/s    in 0s      \n",
            "\n",
            "2022-02-19 20:51:51 (114 MB/s) - ‘adult.names.2’ saved [5229/5229]\n",
            "\n",
            "--2022-02-19 20:51:51--  https://archive.ics.uci.edu/ml/machine-learning-databases/adult/adult.test\n",
            "Resolving archive.ics.uci.edu (archive.ics.uci.edu)... 128.195.10.252\n",
            "Connecting to archive.ics.uci.edu (archive.ics.uci.edu)|128.195.10.252|:443... connected.\n",
            "HTTP request sent, awaiting response... 200 OK\n",
            "Length: 2003153 (1.9M) [application/x-httpd-php]\n",
            "Saving to: ‘adult.test.2’\n",
            "\n",
            "adult.test.2        100%[===================>]   1.91M  1.81MB/s    in 1.1s    \n",
            "\n",
            "2022-02-19 20:51:52 (1.81 MB/s) - ‘adult.test.2’ saved [2003153/2003153]\n",
            "\n"
          ]
        }
      ]
    },
    {
      "cell_type": "code",
      "execution_count": 29,
      "metadata": {
        "id": "wkA84HaBa6gf"
      },
      "outputs": [],
      "source": [
        "import numpy as np\n",
        "import tensorflow as tf\n",
        "#from tensorflow import keras\n",
        "import time\n",
        "\n",
        "import matplotlib.pyplot as plt\n",
        "\n",
        "#from sklearn.model_selection import train_test_split\n",
        "from sklearn import datasets\n",
        "from sklearn.preprocessing import StandardScaler, MinMaxScaler\n",
        "from sklearn.pipeline import Pipeline, make_pipeline\n",
        "from sklearn.metrics import accuracy_score\n",
        "from sklearn.linear_model import LogisticRegression\n",
        "from sklearn.neural_network import MLPClassifier\n",
        "\n",
        "import copy\n",
        "\n",
        "\n",
        "from aif360.datasets import AdultDataset\n",
        "from aif360.algorithms.preprocessing.optim_preproc_helpers.data_preproc_functions import load_preproc_data_adult\n",
        "from aif360.metrics import ClassificationMetric\n",
        "\n",
        "import gpflow\n",
        "\n",
        "from gpflow.utilities import print_summary, set_trainable\n",
        "from gpflow.ci_utils import ci_niter\n",
        "\n",
        "import warnings\n",
        "warnings.filterwarnings(\"ignore\")\n",
        "\n",
        "np.random.seed(0)\n",
        "tf.random.set_seed(123)"
      ]
    },
    {
      "cell_type": "code",
      "execution_count": 30,
      "metadata": {
        "id": "QQ9IQQ2ra6gi",
        "outputId": "7fa70589-7368-4335-c4c5-dc5ab70682f3",
        "colab": {
          "base_uri": "https://localhost:8080/"
        }
      },
      "outputs": [
        {
          "output_type": "stream",
          "name": "stdout",
          "text": [
            "34189\n",
            "18\n"
          ]
        }
      ],
      "source": [
        "privileged_groups = [{'sex': 1}]\n",
        "unprivileged_groups = [{'sex': 0}]\n",
        "dataset_orig = load_preproc_data_adult(['sex'])\n",
        "\n",
        "train, test = dataset_orig.split([0.7], shuffle=True, seed=3)\n",
        "#print(\"training data size\", train.features.shape)\n",
        "#print(\"dataset feature names\", train.feature_names)\n",
        "\n",
        "data_preprocessing = Pipeline([(\"standardiser\", StandardScaler()),\n",
        "                               #(\"minmaxscaler\", MinMaxScaler()),\n",
        "                                ]\n",
        "                                )\n",
        "\n",
        "\n",
        "# x_train = train.features\n",
        "# x_test = test.features\n",
        "x_train = data_preprocessing.fit_transform(train.features)\n",
        "x_test = data_preprocessing.fit_transform(test.features)\n",
        "y_train = train.labels.ravel()\n",
        "y_test = test.labels.ravel()\n",
        "\n",
        "training_data = (x_train, y_train)\n",
        "\n",
        "C = 2\n",
        "\n",
        "N = len(x_train)\n",
        "M = 400\n",
        "print(N)\n",
        "print(len(x_train[0]))\n"
      ]
    },
    {
      "cell_type": "markdown",
      "source": [
        "## Model Training"
      ],
      "metadata": {
        "id": "MMUrsC5FiRgi"
      }
    },
    {
      "cell_type": "markdown",
      "source": [
        "### Setting up the model"
      ],
      "metadata": {
        "id": "AxQQz0ponIR8"
      }
    },
    {
      "cell_type": "code",
      "execution_count": 31,
      "metadata": {
        "id": "Rkaw9VLOa6gj",
        "outputId": "167643bc-703c-4ad1-851c-214a03e652ea",
        "colab": {
          "base_uri": "https://localhost:8080/",
          "height": 190
        }
      },
      "outputs": [
        {
          "output_type": "display_data",
          "data": {
            "text/html": [
              "<table>\n",
              "<thead>\n",
              "<tr><th>name                               </th><th>class    </th><th>transform  </th><th>prior  </th><th>trainable  </th><th>shape   </th><th>dtype  </th><th>value                                   </th></tr>\n",
              "</thead>\n",
              "<tbody>\n",
              "<tr><td>SVGP.kernel.kernels[0].variance    </td><td>Parameter</td><td>Softplus   </td><td>       </td><td>False      </td><td>()      </td><td>float64</td><td>1.0                                     </td></tr>\n",
              "<tr><td>SVGP.kernel.kernels[0].lengthscales</td><td>Parameter</td><td>Softplus   </td><td>       </td><td>True       </td><td>()      </td><td>float64</td><td>1.0                                     </td></tr>\n",
              "<tr><td>SVGP.kernel.kernels[1].variance    </td><td>Parameter</td><td>Softplus   </td><td>       </td><td>True       </td><td>()      </td><td>float64</td><td>0.009999999999999998                    </td></tr>\n",
              "<tr><td>SVGP.likelihood.invlink.epsilon    </td><td>Parameter</td><td>Sigmoid    </td><td>Beta   </td><td>False      </td><td>()      </td><td>float64</td><td>0.0010000000000000005                   </td></tr>\n",
              "<tr><td>SVGP.inducing_variable.Z           </td><td>Parameter</td><td>Identity   </td><td>       </td><td>False      </td><td>(86, 18)</td><td>float64</td><td>[[0.41174559, 0.70430101, -0.23030082...</td></tr>\n",
              "<tr><td>SVGP.q_mu                          </td><td>Parameter</td><td>Identity   </td><td>       </td><td>True       </td><td>(86, 2) </td><td>float64</td><td>[[0., 0....                             </td></tr>\n",
              "<tr><td>SVGP.q_sqrt                        </td><td>Parameter</td><td>Softplus   </td><td>       </td><td>True       </td><td>(86, 2) </td><td>float64</td><td>[[1., 1....                             </td></tr>\n",
              "</tbody>\n",
              "</table>"
            ],
            "text/plain": [
              "<IPython.core.display.HTML object>"
            ]
          },
          "metadata": {}
        }
      ],
      "source": [
        "kernel_multi = gpflow.kernels.Matern52() + gpflow.kernels.White(variance=0.01)\n",
        "kernel_SE = gpflow.kernels.SquaredExponential()\n",
        "\n",
        "# Robustmax Multiclass Likelihood\n",
        "invlink = gpflow.likelihoods.RobustMax(C)  # Robustmax inverse link function\n",
        "likelihood_multi = gpflow.likelihoods.MultiClass(C, invlink=invlink)  # Multiclass likelihood\n",
        "likelihood_bern = gpflow.likelihoods.Bernoulli()\n",
        "Z = x_train[::M].copy()  # inducing inputs\n",
        "\n",
        "m = gpflow.models.SVGP(\n",
        "    kernel=kernel_multi,\n",
        "    likelihood=likelihood_multi,\n",
        "    inducing_variable=Z,\n",
        "    num_latent_gps=C,\n",
        "    whiten=True,\n",
        "    q_diag=True,\n",
        ")\n",
        "\n",
        "set_trainable(m.kernel.kernels[0].variance, False)\n",
        "set_trainable(m.inducing_variable, False)\n",
        "print_summary(m, fmt=\"notebook\")"
      ]
    },
    {
      "cell_type": "code",
      "execution_count": 32,
      "metadata": {
        "id": "FLM-VysVa6gk"
      },
      "outputs": [],
      "source": [
        "minibatch_size = 500\n",
        "total_iterations = 10000\n",
        "\n",
        "def run_adam(model, iterations, training_data, minibatch_size):\n",
        "    \"\"\"\n",
        "    Utility function running the Adam optimizer\n",
        "\n",
        "    :param model: GPflow model\n",
        "    :param interations: number of iterations\n",
        "    \"\"\"\n",
        "    # Create an Adam Optimizer action\n",
        "    train_dataset = tf.data.Dataset.from_tensor_slices(training_data).repeat().shuffle(N)\n",
        "    logf = []\n",
        "    train_iter = iter(train_dataset.batch(minibatch_size))\n",
        "    training_loss = model.training_loss_closure(train_iter, compile=True)\n",
        "    optimizer = tf.optimizers.Adam()\n",
        "\n",
        "    @tf.function\n",
        "    def optimization_step():\n",
        "        optimizer.minimize(training_loss, model.trainable_variables)\n",
        "\n",
        "    for step in range(iterations):\n",
        "        optimization_step()\n",
        "        if step % 10 == 0:\n",
        "            elbo = -training_loss().numpy()\n",
        "            logf.append(elbo)\n",
        "    return logf\n",
        "\n",
        "maxiter = ci_niter(total_iterations)\n",
        "##ten_iter = ci_niter(10)\n",
        "\n",
        "#start_time = time.time()\n",
        "#elbo_training_log = run_adam(m, ten_iter, training_data)\n",
        "#total_time = time.time() - start_time\n",
        "\n",
        "#print(\"Approx time for full optimisation:\", (total_time-2.2)*(total_iterations/600), \"minutes\")\n",
        "\n",
        "#print_summary(m, fmt=\"notebook\")\n"
      ]
    },
    {
      "cell_type": "code",
      "execution_count": 33,
      "metadata": {
        "id": "z2c6V1fra6gl",
        "outputId": "a25f4cae-24b6-4e07-d5a3-0d465cd79662",
        "colab": {
          "base_uri": "https://localhost:8080/",
          "height": 363
        }
      },
      "outputs": [
        {
          "output_type": "display_data",
          "data": {
            "text/html": [
              "<table>\n",
              "<thead>\n",
              "<tr><th>name                               </th><th>class    </th><th>transform  </th><th>prior  </th><th>trainable  </th><th>shape   </th><th>dtype  </th><th>value                                   </th></tr>\n",
              "</thead>\n",
              "<tbody>\n",
              "<tr><td>SVGP.kernel.kernels[0].variance    </td><td>Parameter</td><td>Softplus   </td><td>       </td><td>False      </td><td>()      </td><td>float64</td><td>1.0                                     </td></tr>\n",
              "<tr><td>SVGP.kernel.kernels[0].lengthscales</td><td>Parameter</td><td>Softplus   </td><td>       </td><td>True       </td><td>()      </td><td>float64</td><td>1.0                                     </td></tr>\n",
              "<tr><td>SVGP.kernel.kernels[1].variance    </td><td>Parameter</td><td>Softplus   </td><td>       </td><td>True       </td><td>()      </td><td>float64</td><td>0.009999999999999998                    </td></tr>\n",
              "<tr><td>SVGP.likelihood.invlink.epsilon    </td><td>Parameter</td><td>Sigmoid    </td><td>Beta   </td><td>False      </td><td>()      </td><td>float64</td><td>0.0010000000000000005                   </td></tr>\n",
              "<tr><td>SVGP.inducing_variable.Z           </td><td>Parameter</td><td>Identity   </td><td>       </td><td>False      </td><td>(86, 18)</td><td>float64</td><td>[[0.41174559, 0.70430101, -0.23030082...</td></tr>\n",
              "<tr><td>SVGP.q_mu                          </td><td>Parameter</td><td>Identity   </td><td>       </td><td>True       </td><td>(86, 2) </td><td>float64</td><td>[[0., 0....                             </td></tr>\n",
              "<tr><td>SVGP.q_sqrt                        </td><td>Parameter</td><td>Softplus   </td><td>       </td><td>True       </td><td>(86, 2) </td><td>float64</td><td>[[1., 1....                             </td></tr>\n",
              "</tbody>\n",
              "</table>"
            ],
            "text/plain": [
              "<IPython.core.display.HTML object>"
            ]
          },
          "metadata": {}
        },
        {
          "output_type": "display_data",
          "data": {
            "text/html": [
              "<table>\n",
              "<thead>\n",
              "<tr><th>name                               </th><th>class    </th><th>transform  </th><th>prior  </th><th>trainable  </th><th>shape   </th><th>dtype  </th><th>value                                   </th></tr>\n",
              "</thead>\n",
              "<tbody>\n",
              "<tr><td>SVGP.kernel.kernels[0].variance    </td><td>Parameter</td><td>Softplus   </td><td>       </td><td>False      </td><td>()      </td><td>float64</td><td>1.0                                     </td></tr>\n",
              "<tr><td>SVGP.kernel.kernels[0].lengthscales</td><td>Parameter</td><td>Softplus   </td><td>       </td><td>True       </td><td>()      </td><td>float64</td><td>6.227403248423943                       </td></tr>\n",
              "<tr><td>SVGP.kernel.kernels[1].variance    </td><td>Parameter</td><td>Softplus   </td><td>       </td><td>True       </td><td>()      </td><td>float64</td><td>9.773503522622393e-05                   </td></tr>\n",
              "<tr><td>SVGP.likelihood.invlink.epsilon    </td><td>Parameter</td><td>Sigmoid    </td><td>Beta   </td><td>False      </td><td>()      </td><td>float64</td><td>0.0010000000000000005                   </td></tr>\n",
              "<tr><td>SVGP.inducing_variable.Z           </td><td>Parameter</td><td>Identity   </td><td>       </td><td>False      </td><td>(86, 18)</td><td>float64</td><td>[[0.41174559, 0.70430101, -0.23030082...</td></tr>\n",
              "<tr><td>SVGP.q_mu                          </td><td>Parameter</td><td>Identity   </td><td>       </td><td>True       </td><td>(86, 2) </td><td>float64</td><td>[[1.49871129e+00, -1.49871129e+00...    </td></tr>\n",
              "<tr><td>SVGP.q_sqrt                        </td><td>Parameter</td><td>Softplus   </td><td>       </td><td>True       </td><td>(86, 2) </td><td>float64</td><td>[[0.19736106, 0.19736106...             </td></tr>\n",
              "</tbody>\n",
              "</table>"
            ],
            "text/plain": [
              "<IPython.core.display.HTML object>"
            ]
          },
          "metadata": {}
        }
      ],
      "source": [
        "mb_sizes = [10]#, 50, 100, 300, 500, 1000, 5000, 10000]\n",
        "\n",
        "#mb_sizes = np.linspace(10, 500, 20, dtype=int)\n",
        "\n",
        "elbo_training_logs = []\n",
        "models = []\n",
        "\n",
        "\n",
        "with tf.device('/device:GPU:0'):\n",
        "    for mb_size in mb_sizes:\n",
        "        model = copy.deepcopy(m)\n",
        "        elbo_training_log = run_adam(model, maxiter, training_data, mb_size)\n",
        "        elbo_training_logs.append(np.array(elbo_training_log)/mb_size)\n",
        "        models.append(model)\n",
        "\n",
        "\n",
        "# for log in elbo_training_logs:\n",
        "#     plt.plot(range(0, total_iterations, 10), log)\n",
        "#     plt.show()"
      ]
    },
    {
      "cell_type": "code",
      "execution_count": 34,
      "metadata": {
        "id": "_u_Yn2cqa6gl",
        "outputId": "b2899c1f-a183-4449-9cd1-0d142d20ded7",
        "colab": {
          "base_uri": "https://localhost:8080/"
        }
      },
      "outputs": [
        {
          "output_type": "stream",
          "name": "stdout",
          "text": [
            "SVGP accuracy (minibatch = 10): 0.7530881048249505\n",
            "SVGP accuracy (minibatch = 64): 0.7856411656316112\n",
            "SVGP accuracy (minibatch = 118): 0.7938306148911486\n",
            "SVGP accuracy (minibatch = 173): 0.7945813144066062\n",
            "SVGP accuracy (minibatch = 227): 0.7945813144066062\n",
            "SVGP accuracy (minibatch = 282): 0.7979253395209173\n",
            "SVGP accuracy (minibatch = 336): 0.7997679656043131\n",
            "SVGP accuracy (minibatch = 391): 0.7997679656043131\n",
            "SVGP accuracy (minibatch = 445): 0.7997679656043131\n",
            "SVGP accuracy (minibatch = 500): 0.7999044564253054\n",
            "Logistic Regression accuracy: 0.8004504197092746\n",
            "MLP accuracy: 0.7997679656043131\n"
          ]
        }
      ],
      "source": [
        "\n",
        "\n",
        "\n",
        "def predict_targets(model, x_test):\n",
        "    mu, _ = model.predict_y(x_test)\n",
        "    predictions = []\n",
        "    for probs in mu:\n",
        "        prediction = np.argmax(probs)\n",
        "        predictions.append(prediction)\n",
        "    return predictions\n",
        "\n",
        "def calculate_test_accuracy(model, x_test, y_test):\n",
        "    predictions = predict_targets(model, x_test)\n",
        "    total_correct = 0\n",
        "    for i in range(len(x_test)):\n",
        "        if predictions[i]==y_test[i]:\n",
        "            total_correct += 1\n",
        "\n",
        "    return total_correct/len(predictions)\n",
        "\n",
        "\n",
        "def logistic_regression_accuracy(training_data, x_test, y_test):\n",
        "    model = LogisticRegression()\n",
        "    model.fit(*training_data)\n",
        "    predictions = model.predict(x_test)\n",
        "    return accuracy_score(y_test, predictions)\n",
        "\n",
        "def mlp_accuracy(training_data, x_test, y_test):\n",
        "    model = MLPClassifier(solver='lbfgs', alpha=1e-5, hidden_layer_sizes=(5, 2), random_state=1)\n",
        "    model.fit(*training_data)\n",
        "    predictions = model.predict(x_test)\n",
        "    return accuracy_score(y_test, predictions)\n",
        "\n",
        "\n",
        "fairness_scores = []\n",
        "test_accuracies = []\n",
        "\n",
        "for i in range(len(models)):\n",
        "    test_accuracy = calculate_test_accuracy(models[i], x_test, y_test)\n",
        "    print(f\"SVGP accuracy (minibatch = {mb_sizes[i]}):\", test_accuracy)\n",
        "    test_accuracies.append(test_accuracy)\n",
        "    predictions = predict_targets(models[i], x_test)\n",
        "    test_pred = test.copy()\n",
        "    test_pred.labels = np.array(predictions)\n",
        "    fairness_metric = ClassificationMetric(\n",
        "        test, \n",
        "        test_pred,\n",
        "        unprivileged_groups=unprivileged_groups, \n",
        "        privileged_groups=privileged_groups\n",
        "        )\n",
        "    fairness_scores.append(fairness_metric.equal_opportunity_difference())\n",
        "print(\"Logistic Regression accuracy:\", logistic_regression_accuracy(training_data, x_test, y_test))\n",
        "print(\"MLP accuracy:\", mlp_accuracy(training_data, x_test, y_test))\n",
        "\n"
      ]
    },
    {
      "cell_type": "code",
      "source": [
        "plt.plot(mb_sizes, test_accuracies)\n",
        "plt.show()\n",
        "plt.plot(mb_sizes, -fairness_scores)\n",
        "plt.show()"
      ],
      "metadata": {
        "colab": {
          "base_uri": "https://localhost:8080/",
          "height": 218
        },
        "id": "Z8QHdO7suj7m",
        "outputId": "02b49bd5-3ef5-4ad5-f1b9-1689dfa62758"
      },
      "execution_count": 1,
      "outputs": [
        {
          "output_type": "error",
          "ename": "NameError",
          "evalue": "ignored",
          "traceback": [
            "\u001b[0;31m---------------------------------------------------------------------------\u001b[0m",
            "\u001b[0;31mNameError\u001b[0m                                 Traceback (most recent call last)",
            "\u001b[0;32m<ipython-input-1-e97fef8960ee>\u001b[0m in \u001b[0;36m<module>\u001b[0;34m()\u001b[0m\n\u001b[0;32m----> 1\u001b[0;31m \u001b[0mplt\u001b[0m\u001b[0;34m.\u001b[0m\u001b[0mplot\u001b[0m\u001b[0;34m(\u001b[0m\u001b[0mmb_sizes\u001b[0m\u001b[0;34m,\u001b[0m \u001b[0mtest_accuracies\u001b[0m\u001b[0;34m)\u001b[0m\u001b[0;34m\u001b[0m\u001b[0;34m\u001b[0m\u001b[0m\n\u001b[0m\u001b[1;32m      2\u001b[0m \u001b[0mplt\u001b[0m\u001b[0;34m.\u001b[0m\u001b[0mshow\u001b[0m\u001b[0;34m(\u001b[0m\u001b[0;34m)\u001b[0m\u001b[0;34m\u001b[0m\u001b[0;34m\u001b[0m\u001b[0m\n\u001b[1;32m      3\u001b[0m \u001b[0mplt\u001b[0m\u001b[0;34m.\u001b[0m\u001b[0mplot\u001b[0m\u001b[0;34m(\u001b[0m\u001b[0mmb_sizes\u001b[0m\u001b[0;34m,\u001b[0m \u001b[0;34m-\u001b[0m\u001b[0mfairness_scores\u001b[0m\u001b[0;34m)\u001b[0m\u001b[0;34m\u001b[0m\u001b[0;34m\u001b[0m\u001b[0m\n\u001b[1;32m      4\u001b[0m \u001b[0mplt\u001b[0m\u001b[0;34m.\u001b[0m\u001b[0mshow\u001b[0m\u001b[0;34m(\u001b[0m\u001b[0;34m)\u001b[0m\u001b[0;34m\u001b[0m\u001b[0;34m\u001b[0m\u001b[0m\n",
            "\u001b[0;31mNameError\u001b[0m: name 'plt' is not defined"
          ]
        }
      ]
    }
  ],
  "metadata": {
    "interpreter": {
      "hash": "e23cd63839a24d10844f2bf3826d14df851b4825174cb3cdb62e15bac83a1cc5"
    },
    "kernelspec": {
      "display_name": "Python 3.8.8 64-bit ('base': conda)",
      "name": "python3"
    },
    "language_info": {
      "codemirror_mode": {
        "name": "ipython",
        "version": 3
      },
      "file_extension": ".py",
      "mimetype": "text/x-python",
      "name": "python",
      "nbconvert_exporter": "python",
      "pygments_lexer": "ipython3",
      "version": "3.8.8"
    },
    "orig_nbformat": 4,
    "colab": {
      "name": "SVGP_class copy.ipynb",
      "provenance": [],
      "background_execution": "on",
      "include_colab_link": true
    },
    "accelerator": "GPU"
  },
  "nbformat": 4,
  "nbformat_minor": 0
}